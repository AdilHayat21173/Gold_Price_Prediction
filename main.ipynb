{
  "cells": [
    {
      "cell_type": "code",
      "execution_count": 2,
      "metadata": {
        "id": "TUSshoA_H3Xs"
      },
      "outputs": [],
      "source": [
        "import pandas as pd\n",
        "import numpy as np\n",
        "import seaborn as sns\n",
        "import matplotlib.pyplot as plt\n"
      ]
    },
    {
      "cell_type": "markdown",
      "metadata": {
        "id": "pLqT-2JyILwM"
      },
      "source": [
        "**Upload Dataset**"
      ]
    },
    {
      "cell_type": "code",
      "execution_count": 3,
      "metadata": {
        "colab": {
          "base_uri": "https://localhost:8080/",
          "height": 206
        },
        "id": "S51Srl9zILOe",
        "outputId": "91297d92-f255-4aa4-ca30-f2df3dde3ba3"
      },
      "outputs": [
        {
          "data": {
            "text/html": [
              "<div>\n",
              "<style scoped>\n",
              "    .dataframe tbody tr th:only-of-type {\n",
              "        vertical-align: middle;\n",
              "    }\n",
              "\n",
              "    .dataframe tbody tr th {\n",
              "        vertical-align: top;\n",
              "    }\n",
              "\n",
              "    .dataframe thead th {\n",
              "        text-align: right;\n",
              "    }\n",
              "</style>\n",
              "<table border=\"1\" class=\"dataframe\">\n",
              "  <thead>\n",
              "    <tr style=\"text-align: right;\">\n",
              "      <th></th>\n",
              "      <th>Date</th>\n",
              "      <th>SPX</th>\n",
              "      <th>GLD</th>\n",
              "      <th>USO</th>\n",
              "      <th>SLV</th>\n",
              "      <th>EUR/USD</th>\n",
              "    </tr>\n",
              "  </thead>\n",
              "  <tbody>\n",
              "    <tr>\n",
              "      <th>0</th>\n",
              "      <td>1/2/2008</td>\n",
              "      <td>1447.160034</td>\n",
              "      <td>84.860001</td>\n",
              "      <td>78.470001</td>\n",
              "      <td>15.180</td>\n",
              "      <td>1.471692</td>\n",
              "    </tr>\n",
              "    <tr>\n",
              "      <th>1</th>\n",
              "      <td>1/3/2008</td>\n",
              "      <td>1447.160034</td>\n",
              "      <td>85.570000</td>\n",
              "      <td>78.370003</td>\n",
              "      <td>15.285</td>\n",
              "      <td>1.474491</td>\n",
              "    </tr>\n",
              "    <tr>\n",
              "      <th>2</th>\n",
              "      <td>1/4/2008</td>\n",
              "      <td>1411.630005</td>\n",
              "      <td>85.129997</td>\n",
              "      <td>77.309998</td>\n",
              "      <td>15.167</td>\n",
              "      <td>1.475492</td>\n",
              "    </tr>\n",
              "    <tr>\n",
              "      <th>3</th>\n",
              "      <td>1/7/2008</td>\n",
              "      <td>1416.180054</td>\n",
              "      <td>84.769997</td>\n",
              "      <td>75.500000</td>\n",
              "      <td>15.053</td>\n",
              "      <td>1.468299</td>\n",
              "    </tr>\n",
              "    <tr>\n",
              "      <th>4</th>\n",
              "      <td>1/8/2008</td>\n",
              "      <td>1390.189941</td>\n",
              "      <td>86.779999</td>\n",
              "      <td>76.059998</td>\n",
              "      <td>15.590</td>\n",
              "      <td>1.557099</td>\n",
              "    </tr>\n",
              "  </tbody>\n",
              "</table>\n",
              "</div>"
            ],
            "text/plain": [
              "       Date          SPX        GLD        USO     SLV   EUR/USD\n",
              "0  1/2/2008  1447.160034  84.860001  78.470001  15.180  1.471692\n",
              "1  1/3/2008  1447.160034  85.570000  78.370003  15.285  1.474491\n",
              "2  1/4/2008  1411.630005  85.129997  77.309998  15.167  1.475492\n",
              "3  1/7/2008  1416.180054  84.769997  75.500000  15.053  1.468299\n",
              "4  1/8/2008  1390.189941  86.779999  76.059998  15.590  1.557099"
            ]
          },
          "execution_count": 3,
          "metadata": {},
          "output_type": "execute_result"
        }
      ],
      "source": [
        "# https://www.kaggle.com/code/ronitkumargupta/gold-price-prediction-model/input\n",
        "df=pd.read_csv('gld_price_data.csv')\n",
        "df.head()"
      ]
    },
    {
      "cell_type": "code",
      "execution_count": 4,
      "metadata": {
        "colab": {
          "base_uri": "https://localhost:8080/",
          "height": 206
        },
        "id": "n9PT42-dIfZj",
        "outputId": "378f55bf-63df-4ba9-bdad-970f5db48edb"
      },
      "outputs": [
        {
          "data": {
            "text/html": [
              "<div>\n",
              "<style scoped>\n",
              "    .dataframe tbody tr th:only-of-type {\n",
              "        vertical-align: middle;\n",
              "    }\n",
              "\n",
              "    .dataframe tbody tr th {\n",
              "        vertical-align: top;\n",
              "    }\n",
              "\n",
              "    .dataframe thead th {\n",
              "        text-align: right;\n",
              "    }\n",
              "</style>\n",
              "<table border=\"1\" class=\"dataframe\">\n",
              "  <thead>\n",
              "    <tr style=\"text-align: right;\">\n",
              "      <th></th>\n",
              "      <th>Date</th>\n",
              "      <th>SPX</th>\n",
              "      <th>GLD</th>\n",
              "      <th>USO</th>\n",
              "      <th>SLV</th>\n",
              "      <th>EUR/USD</th>\n",
              "    </tr>\n",
              "  </thead>\n",
              "  <tbody>\n",
              "    <tr>\n",
              "      <th>2285</th>\n",
              "      <td>5/8/2018</td>\n",
              "      <td>2671.919922</td>\n",
              "      <td>124.589996</td>\n",
              "      <td>14.0600</td>\n",
              "      <td>15.5100</td>\n",
              "      <td>1.186789</td>\n",
              "    </tr>\n",
              "    <tr>\n",
              "      <th>2286</th>\n",
              "      <td>5/9/2018</td>\n",
              "      <td>2697.790039</td>\n",
              "      <td>124.330002</td>\n",
              "      <td>14.3700</td>\n",
              "      <td>15.5300</td>\n",
              "      <td>1.184722</td>\n",
              "    </tr>\n",
              "    <tr>\n",
              "      <th>2287</th>\n",
              "      <td>5/10/2018</td>\n",
              "      <td>2723.070068</td>\n",
              "      <td>125.180000</td>\n",
              "      <td>14.4100</td>\n",
              "      <td>15.7400</td>\n",
              "      <td>1.191753</td>\n",
              "    </tr>\n",
              "    <tr>\n",
              "      <th>2288</th>\n",
              "      <td>5/14/2018</td>\n",
              "      <td>2730.129883</td>\n",
              "      <td>124.489998</td>\n",
              "      <td>14.3800</td>\n",
              "      <td>15.5600</td>\n",
              "      <td>1.193118</td>\n",
              "    </tr>\n",
              "    <tr>\n",
              "      <th>2289</th>\n",
              "      <td>5/16/2018</td>\n",
              "      <td>2725.780029</td>\n",
              "      <td>122.543800</td>\n",
              "      <td>14.4058</td>\n",
              "      <td>15.4542</td>\n",
              "      <td>1.182033</td>\n",
              "    </tr>\n",
              "  </tbody>\n",
              "</table>\n",
              "</div>"
            ],
            "text/plain": [
              "           Date          SPX         GLD      USO      SLV   EUR/USD\n",
              "2285   5/8/2018  2671.919922  124.589996  14.0600  15.5100  1.186789\n",
              "2286   5/9/2018  2697.790039  124.330002  14.3700  15.5300  1.184722\n",
              "2287  5/10/2018  2723.070068  125.180000  14.4100  15.7400  1.191753\n",
              "2288  5/14/2018  2730.129883  124.489998  14.3800  15.5600  1.193118\n",
              "2289  5/16/2018  2725.780029  122.543800  14.4058  15.4542  1.182033"
            ]
          },
          "execution_count": 4,
          "metadata": {},
          "output_type": "execute_result"
        }
      ],
      "source": [
        "df.tail()"
      ]
    },
    {
      "cell_type": "code",
      "execution_count": 5,
      "metadata": {
        "colab": {
          "base_uri": "https://localhost:8080/"
        },
        "id": "iJtfzcGyI6Bl",
        "outputId": "f11c4711-06fa-4034-b446-77810ca33553"
      },
      "outputs": [
        {
          "data": {
            "text/plain": [
              "Date       0\n",
              "SPX        0\n",
              "GLD        0\n",
              "USO        0\n",
              "SLV        0\n",
              "EUR/USD    0\n",
              "dtype: int64"
            ]
          },
          "execution_count": 5,
          "metadata": {},
          "output_type": "execute_result"
        }
      ],
      "source": [
        "df.isnull().sum()"
      ]
    },
    {
      "cell_type": "code",
      "execution_count": 6,
      "metadata": {
        "colab": {
          "base_uri": "https://localhost:8080/"
        },
        "id": "Z93-zBpuIVtU",
        "outputId": "2524f66e-3eb2-4bc0-eccc-1ccff5775276"
      },
      "outputs": [
        {
          "name": "stdout",
          "output_type": "stream",
          "text": [
            "<class 'pandas.core.frame.DataFrame'>\n",
            "RangeIndex: 2290 entries, 0 to 2289\n",
            "Data columns (total 6 columns):\n",
            " #   Column   Non-Null Count  Dtype  \n",
            "---  ------   --------------  -----  \n",
            " 0   Date     2290 non-null   object \n",
            " 1   SPX      2290 non-null   float64\n",
            " 2   GLD      2290 non-null   float64\n",
            " 3   USO      2290 non-null   float64\n",
            " 4   SLV      2290 non-null   float64\n",
            " 5   EUR/USD  2290 non-null   float64\n",
            "dtypes: float64(5), object(1)\n",
            "memory usage: 107.5+ KB\n"
          ]
        }
      ],
      "source": [
        "df.info()"
      ]
    },
    {
      "cell_type": "code",
      "execution_count": 7,
      "metadata": {
        "colab": {
          "base_uri": "https://localhost:8080/",
          "height": 300
        },
        "id": "jthQQp90IYbn",
        "outputId": "e52f5113-eef9-4438-ef27-d01d41621d8d"
      },
      "outputs": [
        {
          "data": {
            "text/html": [
              "<div>\n",
              "<style scoped>\n",
              "    .dataframe tbody tr th:only-of-type {\n",
              "        vertical-align: middle;\n",
              "    }\n",
              "\n",
              "    .dataframe tbody tr th {\n",
              "        vertical-align: top;\n",
              "    }\n",
              "\n",
              "    .dataframe thead th {\n",
              "        text-align: right;\n",
              "    }\n",
              "</style>\n",
              "<table border=\"1\" class=\"dataframe\">\n",
              "  <thead>\n",
              "    <tr style=\"text-align: right;\">\n",
              "      <th></th>\n",
              "      <th>SPX</th>\n",
              "      <th>GLD</th>\n",
              "      <th>USO</th>\n",
              "      <th>SLV</th>\n",
              "      <th>EUR/USD</th>\n",
              "    </tr>\n",
              "  </thead>\n",
              "  <tbody>\n",
              "    <tr>\n",
              "      <th>count</th>\n",
              "      <td>2290.000000</td>\n",
              "      <td>2290.000000</td>\n",
              "      <td>2290.000000</td>\n",
              "      <td>2290.000000</td>\n",
              "      <td>2290.000000</td>\n",
              "    </tr>\n",
              "    <tr>\n",
              "      <th>mean</th>\n",
              "      <td>1654.315776</td>\n",
              "      <td>122.732875</td>\n",
              "      <td>31.842221</td>\n",
              "      <td>20.084997</td>\n",
              "      <td>1.283653</td>\n",
              "    </tr>\n",
              "    <tr>\n",
              "      <th>std</th>\n",
              "      <td>519.111540</td>\n",
              "      <td>23.283346</td>\n",
              "      <td>19.523517</td>\n",
              "      <td>7.092566</td>\n",
              "      <td>0.131547</td>\n",
              "    </tr>\n",
              "    <tr>\n",
              "      <th>min</th>\n",
              "      <td>676.530029</td>\n",
              "      <td>70.000000</td>\n",
              "      <td>7.960000</td>\n",
              "      <td>8.850000</td>\n",
              "      <td>1.039047</td>\n",
              "    </tr>\n",
              "    <tr>\n",
              "      <th>25%</th>\n",
              "      <td>1239.874969</td>\n",
              "      <td>109.725000</td>\n",
              "      <td>14.380000</td>\n",
              "      <td>15.570000</td>\n",
              "      <td>1.171313</td>\n",
              "    </tr>\n",
              "    <tr>\n",
              "      <th>50%</th>\n",
              "      <td>1551.434998</td>\n",
              "      <td>120.580002</td>\n",
              "      <td>33.869999</td>\n",
              "      <td>17.268500</td>\n",
              "      <td>1.303297</td>\n",
              "    </tr>\n",
              "    <tr>\n",
              "      <th>75%</th>\n",
              "      <td>2073.010070</td>\n",
              "      <td>132.840004</td>\n",
              "      <td>37.827501</td>\n",
              "      <td>22.882500</td>\n",
              "      <td>1.369971</td>\n",
              "    </tr>\n",
              "    <tr>\n",
              "      <th>max</th>\n",
              "      <td>2872.870117</td>\n",
              "      <td>184.589996</td>\n",
              "      <td>117.480003</td>\n",
              "      <td>47.259998</td>\n",
              "      <td>1.598798</td>\n",
              "    </tr>\n",
              "  </tbody>\n",
              "</table>\n",
              "</div>"
            ],
            "text/plain": [
              "               SPX          GLD          USO          SLV      EUR/USD\n",
              "count  2290.000000  2290.000000  2290.000000  2290.000000  2290.000000\n",
              "mean   1654.315776   122.732875    31.842221    20.084997     1.283653\n",
              "std     519.111540    23.283346    19.523517     7.092566     0.131547\n",
              "min     676.530029    70.000000     7.960000     8.850000     1.039047\n",
              "25%    1239.874969   109.725000    14.380000    15.570000     1.171313\n",
              "50%    1551.434998   120.580002    33.869999    17.268500     1.303297\n",
              "75%    2073.010070   132.840004    37.827501    22.882500     1.369971\n",
              "max    2872.870117   184.589996   117.480003    47.259998     1.598798"
            ]
          },
          "execution_count": 7,
          "metadata": {},
          "output_type": "execute_result"
        }
      ],
      "source": [
        "df.describe()"
      ]
    },
    {
      "cell_type": "markdown",
      "metadata": {
        "id": "C7YJ6lFmIo04"
      },
      "source": [
        "**Correlation of Different column**"
      ]
    },
    {
      "cell_type": "code",
      "execution_count": 8,
      "metadata": {
        "colab": {
          "base_uri": "https://localhost:8080/",
          "height": 423
        },
        "id": "Sdng0WLjIbgu",
        "outputId": "8c3e5d48-a84c-4126-894d-5eac8e577854"
      },
      "outputs": [
        {
          "data": {
            "text/html": [
              "<div>\n",
              "<style scoped>\n",
              "    .dataframe tbody tr th:only-of-type {\n",
              "        vertical-align: middle;\n",
              "    }\n",
              "\n",
              "    .dataframe tbody tr th {\n",
              "        vertical-align: top;\n",
              "    }\n",
              "\n",
              "    .dataframe thead th {\n",
              "        text-align: right;\n",
              "    }\n",
              "</style>\n",
              "<table border=\"1\" class=\"dataframe\">\n",
              "  <thead>\n",
              "    <tr style=\"text-align: right;\">\n",
              "      <th></th>\n",
              "      <th>SPX</th>\n",
              "      <th>GLD</th>\n",
              "      <th>USO</th>\n",
              "      <th>SLV</th>\n",
              "      <th>EUR/USD</th>\n",
              "    </tr>\n",
              "  </thead>\n",
              "  <tbody>\n",
              "    <tr>\n",
              "      <th>0</th>\n",
              "      <td>1447.160034</td>\n",
              "      <td>84.860001</td>\n",
              "      <td>78.470001</td>\n",
              "      <td>15.1800</td>\n",
              "      <td>1.471692</td>\n",
              "    </tr>\n",
              "    <tr>\n",
              "      <th>1</th>\n",
              "      <td>1447.160034</td>\n",
              "      <td>85.570000</td>\n",
              "      <td>78.370003</td>\n",
              "      <td>15.2850</td>\n",
              "      <td>1.474491</td>\n",
              "    </tr>\n",
              "    <tr>\n",
              "      <th>2</th>\n",
              "      <td>1411.630005</td>\n",
              "      <td>85.129997</td>\n",
              "      <td>77.309998</td>\n",
              "      <td>15.1670</td>\n",
              "      <td>1.475492</td>\n",
              "    </tr>\n",
              "    <tr>\n",
              "      <th>3</th>\n",
              "      <td>1416.180054</td>\n",
              "      <td>84.769997</td>\n",
              "      <td>75.500000</td>\n",
              "      <td>15.0530</td>\n",
              "      <td>1.468299</td>\n",
              "    </tr>\n",
              "    <tr>\n",
              "      <th>4</th>\n",
              "      <td>1390.189941</td>\n",
              "      <td>86.779999</td>\n",
              "      <td>76.059998</td>\n",
              "      <td>15.5900</td>\n",
              "      <td>1.557099</td>\n",
              "    </tr>\n",
              "    <tr>\n",
              "      <th>...</th>\n",
              "      <td>...</td>\n",
              "      <td>...</td>\n",
              "      <td>...</td>\n",
              "      <td>...</td>\n",
              "      <td>...</td>\n",
              "    </tr>\n",
              "    <tr>\n",
              "      <th>2285</th>\n",
              "      <td>2671.919922</td>\n",
              "      <td>124.589996</td>\n",
              "      <td>14.060000</td>\n",
              "      <td>15.5100</td>\n",
              "      <td>1.186789</td>\n",
              "    </tr>\n",
              "    <tr>\n",
              "      <th>2286</th>\n",
              "      <td>2697.790039</td>\n",
              "      <td>124.330002</td>\n",
              "      <td>14.370000</td>\n",
              "      <td>15.5300</td>\n",
              "      <td>1.184722</td>\n",
              "    </tr>\n",
              "    <tr>\n",
              "      <th>2287</th>\n",
              "      <td>2723.070068</td>\n",
              "      <td>125.180000</td>\n",
              "      <td>14.410000</td>\n",
              "      <td>15.7400</td>\n",
              "      <td>1.191753</td>\n",
              "    </tr>\n",
              "    <tr>\n",
              "      <th>2288</th>\n",
              "      <td>2730.129883</td>\n",
              "      <td>124.489998</td>\n",
              "      <td>14.380000</td>\n",
              "      <td>15.5600</td>\n",
              "      <td>1.193118</td>\n",
              "    </tr>\n",
              "    <tr>\n",
              "      <th>2289</th>\n",
              "      <td>2725.780029</td>\n",
              "      <td>122.543800</td>\n",
              "      <td>14.405800</td>\n",
              "      <td>15.4542</td>\n",
              "      <td>1.182033</td>\n",
              "    </tr>\n",
              "  </tbody>\n",
              "</table>\n",
              "<p>2290 rows × 5 columns</p>\n",
              "</div>"
            ],
            "text/plain": [
              "              SPX         GLD        USO      SLV   EUR/USD\n",
              "0     1447.160034   84.860001  78.470001  15.1800  1.471692\n",
              "1     1447.160034   85.570000  78.370003  15.2850  1.474491\n",
              "2     1411.630005   85.129997  77.309998  15.1670  1.475492\n",
              "3     1416.180054   84.769997  75.500000  15.0530  1.468299\n",
              "4     1390.189941   86.779999  76.059998  15.5900  1.557099\n",
              "...           ...         ...        ...      ...       ...\n",
              "2285  2671.919922  124.589996  14.060000  15.5100  1.186789\n",
              "2286  2697.790039  124.330002  14.370000  15.5300  1.184722\n",
              "2287  2723.070068  125.180000  14.410000  15.7400  1.191753\n",
              "2288  2730.129883  124.489998  14.380000  15.5600  1.193118\n",
              "2289  2725.780029  122.543800  14.405800  15.4542  1.182033\n",
              "\n",
              "[2290 rows x 5 columns]"
            ]
          },
          "execution_count": 8,
          "metadata": {},
          "output_type": "execute_result"
        }
      ],
      "source": [
        "df=df.drop(['Date'],axis=1)\n",
        "df"
      ]
    },
    {
      "cell_type": "code",
      "execution_count": 9,
      "metadata": {
        "id": "CfH5E-X9Ixae"
      },
      "outputs": [],
      "source": [
        "correlation=df.corr()"
      ]
    },
    {
      "cell_type": "code",
      "execution_count": 10,
      "metadata": {
        "colab": {
          "base_uri": "https://localhost:8080/",
          "height": 658
        },
        "id": "VUPloVaRJaoJ",
        "outputId": "d1ffc6ed-4787-4d6b-a630-64eaca258e61"
      },
      "outputs": [
        {
          "data": {
            "image/png": "[encoded data removed]",
            "text/plain": [
              "<Figure size 800x800 with 2 Axes>"
            ]
          },
          "metadata": {},
          "output_type": "display_data"
        }
      ],
      "source": [
        "plt.figure(figsize=(8,8))\n",
        "sns.heatmap(correlation, cbar=True, square=True, fmt='.1f',\n",
        "\n",
        "    annot=True, annot_kws={'size':8}, cmap='Greens')\n",
        "plt.show()"
      ]
    },
    {
      "cell_type": "code",
      "execution_count": 11,
      "metadata": {
        "colab": {
          "base_uri": "https://localhost:8080/",
          "height": 506
        },
        "id": "HqOrdqG9KAjD",
        "outputId": "7637ba01-ff0e-4e8f-f04f-94079b4e15f2"
      },
      "outputs": [
        {
          "data": {
            "image/png": "[encoded data removed]",
            "text/plain": [
              "<Figure size 500x500 with 1 Axes>"
            ]
          },
          "metadata": {},
          "output_type": "display_data"
        }
      ],
      "source": [
        "sns.displot(df['GLD'], kde=True)\n",
        "plt.show()"
      ]
    },
    {
      "cell_type": "markdown",
      "metadata": {
        "id": "ctt00XlfKp-F"
      },
      "source": [
        "**Seperate Dependent and Independent Variable**"
      ]
    },
    {
      "cell_type": "code",
      "execution_count": 12,
      "metadata": {
        "id": "OdOy_v1cKpFX"
      },
      "outputs": [],
      "source": [
        "x=df.drop(['GLD'],axis=1)\n",
        "Y=df['GLD']"
      ]
    },
    {
      "cell_type": "code",
      "execution_count": 13,
      "metadata": {
        "colab": {
          "base_uri": "https://localhost:8080/",
          "height": 206
        },
        "id": "H1lmbCsKLQFc",
        "outputId": "9770e2de-cd2a-4cda-d86f-0dfcc59f2b37"
      },
      "outputs": [
        {
          "data": {
            "text/html": [
              "<div>\n",
              "<style scoped>\n",
              "    .dataframe tbody tr th:only-of-type {\n",
              "        vertical-align: middle;\n",
              "    }\n",
              "\n",
              "    .dataframe tbody tr th {\n",
              "        vertical-align: top;\n",
              "    }\n",
              "\n",
              "    .dataframe thead th {\n",
              "        text-align: right;\n",
              "    }\n",
              "</style>\n",
              "<table border=\"1\" class=\"dataframe\">\n",
              "  <thead>\n",
              "    <tr style=\"text-align: right;\">\n",
              "      <th></th>\n",
              "      <th>SPX</th>\n",
              "      <th>USO</th>\n",
              "      <th>SLV</th>\n",
              "      <th>EUR/USD</th>\n",
              "    </tr>\n",
              "  </thead>\n",
              "  <tbody>\n",
              "    <tr>\n",
              "      <th>0</th>\n",
              "      <td>1447.160034</td>\n",
              "      <td>78.470001</td>\n",
              "      <td>15.180</td>\n",
              "      <td>1.471692</td>\n",
              "    </tr>\n",
              "    <tr>\n",
              "      <th>1</th>\n",
              "      <td>1447.160034</td>\n",
              "      <td>78.370003</td>\n",
              "      <td>15.285</td>\n",
              "      <td>1.474491</td>\n",
              "    </tr>\n",
              "    <tr>\n",
              "      <th>2</th>\n",
              "      <td>1411.630005</td>\n",
              "      <td>77.309998</td>\n",
              "      <td>15.167</td>\n",
              "      <td>1.475492</td>\n",
              "    </tr>\n",
              "    <tr>\n",
              "      <th>3</th>\n",
              "      <td>1416.180054</td>\n",
              "      <td>75.500000</td>\n",
              "      <td>15.053</td>\n",
              "      <td>1.468299</td>\n",
              "    </tr>\n",
              "    <tr>\n",
              "      <th>4</th>\n",
              "      <td>1390.189941</td>\n",
              "      <td>76.059998</td>\n",
              "      <td>15.590</td>\n",
              "      <td>1.557099</td>\n",
              "    </tr>\n",
              "  </tbody>\n",
              "</table>\n",
              "</div>"
            ],
            "text/plain": [
              "           SPX        USO     SLV   EUR/USD\n",
              "0  1447.160034  78.470001  15.180  1.471692\n",
              "1  1447.160034  78.370003  15.285  1.474491\n",
              "2  1411.630005  77.309998  15.167  1.475492\n",
              "3  1416.180054  75.500000  15.053  1.468299\n",
              "4  1390.189941  76.059998  15.590  1.557099"
            ]
          },
          "execution_count": 13,
          "metadata": {},
          "output_type": "execute_result"
        }
      ],
      "source": [
        "x.head()"
      ]
    },
    {
      "cell_type": "code",
      "execution_count": 14,
      "metadata": {
        "colab": {
          "base_uri": "https://localhost:8080/"
        },
        "id": "YBr55vWSKnYw",
        "outputId": "66551f9c-c6ba-44d0-9c5a-fc16d39dc104"
      },
      "outputs": [
        {
          "data": {
            "text/plain": [
              "0    84.860001\n",
              "1    85.570000\n",
              "2    85.129997\n",
              "3    84.769997\n",
              "4    86.779999\n",
              "Name: GLD, dtype: float64"
            ]
          },
          "execution_count": 14,
          "metadata": {},
          "output_type": "execute_result"
        }
      ],
      "source": [
        "Y.head()"
      ]
    },
    {
      "cell_type": "markdown",
      "metadata": {
        "id": "sB2hYdLMLtwG"
      },
      "source": [
        "**Splitting Training and Testing**"
      ]
    },
    {
      "cell_type": "code",
      "execution_count": 15,
      "metadata": {
        "id": "f4fHCRsTKU6R"
      },
      "outputs": [],
      "source": [
        "from sklearn.model_selection import train_test_split\n",
        "\n",
        "# Assuming X is your feature set and y is your target variable\n",
        "X_train, X_test, y_train, y_test = train_test_split(x, Y, test_size=0.2, random_state=42)\n"
      ]
    },
    {
      "cell_type": "markdown",
      "metadata": {
        "id": "-W-OZGQqMipB"
      },
      "source": [
        "**Linear Regression**"
      ]
    },
    {
      "cell_type": "code",
      "execution_count": 16,
      "metadata": {
        "colab": {
          "base_uri": "https://localhost:8080/"
        },
        "id": "wnIa_hw5MOTS",
        "outputId": "1ef6c28b-fc61-4da6-a51a-b624a9de7751"
      },
      "outputs": [
        {
          "name": "stdout",
          "output_type": "stream",
          "text": [
            "RSE of training data :  0.8771892526181604\n",
            "RSE of testing data :  0.8975640982991402\n"
          ]
        }
      ],
      "source": [
        "from sklearn.linear_model import LinearRegression\n",
        "from sklearn.metrics import mean_squared_error, r2_score\n",
        "from sklearn import metrics\n",
        "# Create and train the model\n",
        "\n",
        "lr_model = LinearRegression()\n",
        "lr_model.fit(X_train, y_train)\n",
        "\n",
        "# Make predictions\n",
        "lr_X_train_pred = lr_model.predict(X_train)\n",
        "lr_X_RSE = metrics.r2_score(y_train, lr_X_train_pred)\n",
        "print(\"RSE of training data : \", lr_X_RSE)\n",
        "\n",
        "# Evaluate the model\n",
        "lr_X_test_pred = lr_model.predict(X_test)\n",
        "\n",
        "lr_X_RSE = metrics.r2_score(y_test, lr_X_test_pred)\n",
        "print(\"RSE of testing data : \", lr_X_RSE)"
      ]
    },
    {
      "cell_type": "markdown",
      "metadata": {
        "id": "_Q6agP5iOsqR"
      },
      "source": [
        "**Test Linear Model**"
      ]
    },
    {
      "cell_type": "code",
      "execution_count": 17,
      "metadata": {
        "colab": {
          "base_uri": "https://localhost:8080/"
        },
        "id": "Bdh-1_ipOr-g",
        "outputId": "66e55d9e-8f0f-478b-e4bf-72d035eab360"
      },
      "outputs": [
        {
          "name": "stdout",
          "output_type": "stream",
          "text": [
            "Price is  :  [92.57434601]\n"
          ]
        },
        {
          "name": "stderr",
          "output_type": "stream",
          "text": [
            "C:\\Users\\hp\\AppData\\Local\\Packages\\PythonSoftwareFoundation.Python.3.12_qbz5n2kfra8p0\\LocalCache\\local-packages\\Python312\\site-packages\\sklearn\\base.py:493: UserWarning: X does not have valid feature names, but LinearRegression was fitted with feature names\n",
            "  warnings.warn(\n"
          ]
        }
      ],
      "source": [
        "test = np.array([[1447.160034,  78.370003,  15.2850,  1.474491]])\n",
        "\n",
        "lr_test_pred = lr_model.predict(test)\n",
        "print(\"Price is  : \",lr_test_pred)"
      ]
    },
    {
      "cell_type": "code",
      "execution_count": 18,
      "metadata": {
        "colab": {
          "base_uri": "https://localhost:8080/"
        },
        "id": "QyaVMmCMQa9R",
        "outputId": "32b456a4-bab0-498a-9eba-ac5a6bd743ae"
      },
      "outputs": [
        {
          "name": "stdout",
          "output_type": "stream",
          "text": [
            "[122.51325689 127.0907545  125.50313349 104.54764991 124.90068634\n",
            " 116.586858   123.04583828 125.14446632 112.05259024 104.88193814\n",
            " 101.00127079 157.04211875 137.50447931 110.49031012 160.83929478\n",
            "  88.48009266 117.77776928 118.96072884 121.53807068 128.1487556\n",
            " 118.02290942 116.08975575 109.6315024  103.05777279 111.84096218\n",
            " 120.86033322 119.62399827 112.20020453 109.19479998 119.62171119\n",
            " 196.11502374  99.10085802 157.19764615 122.07046494 113.39777112\n",
            " 123.34726222 132.36268845 152.08038513 176.64473496 145.03588282\n",
            " 124.05185863 121.33549213 122.74098458 115.57613444 122.35927588\n",
            " 112.09083408  93.45476082 116.93571065 126.42056988 118.08975012\n",
            " 105.4726357  126.56933728 105.64602965 151.78330086 137.80329213\n",
            " 117.39236458 159.54433502 126.41884417 100.17367568 122.74815137\n",
            " 109.79583313  86.2818531  113.37269965 120.30638659  88.36184756\n",
            " 122.81103534 119.41725002 111.29315614 153.0445584   96.20637023\n",
            "  84.31722327 149.65055559 147.3327689  105.44296836 144.71870893\n",
            " 106.92295995 119.87249277 122.93393893 115.01857301 112.69369126\n",
            " 129.91178694 114.53567864  98.54139796  98.02750568 108.32447375\n",
            " 114.94636714 103.51185231 108.60054619 159.15373651 151.46813704\n",
            " 103.58255406 125.91008115 111.42592386 109.48536551 122.65078699\n",
            " 105.83328848 153.10146226  81.21864937 127.0054296  108.72288521\n",
            " 156.93789277 108.93634056 117.13851764 105.91996373 145.16128979\n",
            "  90.03325028  89.17695297 179.77968183 119.63219626 111.72915029\n",
            " 122.72870139 163.09711924 137.54946942 126.12892263 149.23231005\n",
            " 113.81695843 121.30542135 106.80491957 119.18680566 120.92504164\n",
            " 131.23744132 116.74173559  93.75669055 114.54064649 144.2262939\n",
            " 112.44420654 117.16770097  96.79047371 110.99819105 114.92062409\n",
            " 106.1364461  155.61618749  87.37174272 121.91045715  81.22500987\n",
            " 114.76322811 100.34515942 119.26857118  82.67526507 117.92908988\n",
            " 112.60526013 106.98557605  95.44156974 140.63919601 144.91934973\n",
            " 179.81999423 118.15544964 119.20418792 118.87016288  95.98409756\n",
            " 164.19204561 111.70368605 114.64984557 136.97043618 127.07000455\n",
            " 122.11602235 117.74198566 111.66054501 121.94510128  93.8651258\n",
            " 106.0737137  118.11459409 181.50752368 123.87888665 117.74470328\n",
            " 144.00540417 116.3188271   93.23453977 110.96024843 117.28294565\n",
            " 116.44904686 115.25214349 103.81973005 106.02140281 113.68273878\n",
            " 123.5453599  143.0845592  111.66550714 121.6213959  164.31714463\n",
            "  94.81531056 115.1927643  124.90605405 122.09155509 104.27676324\n",
            " 120.23732564 129.35061394 124.19419395 166.33259986 115.49784802\n",
            "  97.22481333 117.05518308 123.16010135 118.53783657 122.20523967\n",
            "  94.66240206 119.75456425  96.30139248 112.34087246 118.99587063\n",
            " 122.67497824 123.7873014  117.45251057 119.0887711  123.89500215\n",
            " 111.27641521 154.2521629  121.15532592 119.30749905 110.53599514\n",
            " 121.8544917  119.08690726 101.71911984 118.36912327 121.47658473\n",
            " 162.68539187  89.46424347 139.48710905 123.35546766  81.69920121\n",
            " 120.25360629  92.27079368 153.69216023  89.38588368 147.26489721\n",
            " 112.26996739 111.65660342 111.07879652 120.41520267 155.86555219\n",
            " 122.52944123 142.90129837 103.32080784 109.83059086 130.60345157\n",
            " 190.87765995 126.37823519 111.76475986 120.81242636 150.99760767\n",
            " 120.58715785 123.34348267 124.38372906 113.89428451 175.679565\n",
            " 131.89814985 122.22753278 180.99304592 115.76693649 118.93265077\n",
            " 112.01302166 149.8003349  112.46005862 121.23960778 119.0190104\n",
            " 120.70684734 116.73742805  97.24431634 104.55142323 127.64747238\n",
            " 126.04854396 158.26549648 105.56474993  91.02153826  94.78408462\n",
            " 146.13892135 158.44930797 140.45102212  80.45870291 112.53673874\n",
            " 116.07095261 150.62493286 127.22382351 115.08546769 122.00687162\n",
            " 152.29148764 122.10112    120.69206768 116.93610956 148.93279748\n",
            " 112.84313872  94.14531207  79.70488891  98.61761031 117.11252669\n",
            " 121.91242539 118.57387263 122.80743221  82.52607836  95.90361797\n",
            " 140.35190691 112.67418057 127.67459196 121.89224551 109.19454633\n",
            "  81.67979552 110.70338736  95.85931355 111.73741784 152.77218044\n",
            " 122.19374988 113.32941281 121.87357089 110.39183818 129.10752133\n",
            "  83.85803082 155.19740202 136.43832955 156.49514332 124.49359972\n",
            "  97.3297167  105.52629394 122.1172574  130.67242053 126.5572266\n",
            "  95.36070229 134.6942144  153.47533568  80.12521938 114.12288602\n",
            " 106.98299591 116.26094853 120.31865934 109.97469715 118.77547092\n",
            " 111.54001657 123.14310797 125.3992898  107.50095592 157.13739418\n",
            " 168.7138855  109.12754023 161.02590312 109.47615751 152.7623049\n",
            " 122.02895148 157.58116197 139.25523713 106.47833675 158.26617953\n",
            " 119.12414951  81.28429944 115.22337114  92.32509568  94.31073481\n",
            " 112.78051436 126.0759017  122.20534585 158.86943782 120.07234831\n",
            "  92.56873772 139.25721297 116.65321875 104.55342968 162.3822574\n",
            " 122.61613086 126.44463982 115.89991634 139.19553779 123.47032933\n",
            " 174.10077133 121.87975884 120.33159791 124.00222196 156.83639239\n",
            "  77.85036022 155.58490381 159.97410035 116.936463   110.75892693\n",
            " 123.19196993 142.6355607  162.8469849  142.84897551 124.71428391\n",
            " 120.36165914 162.86183626  93.55233321 123.38402696 119.83827513\n",
            " 150.87620441 145.41622111 154.77447922 116.98643814  93.43785799\n",
            " 127.90036537 103.90627535 122.95606825 123.2152283  105.71955569\n",
            "  97.40014466 145.50835617 100.27834571  87.31867487 117.80966769\n",
            "  92.58204454  96.65124069 115.39405056 143.92197572 161.60199703\n",
            " 111.47631022 158.09483693 114.41357595 130.56793736  91.19238343\n",
            " 118.95454135  83.40854416 116.00966456 155.37839748 143.77361795\n",
            " 141.01919331 152.53620774  96.78667524 118.02111391  96.84232664\n",
            " 121.78037354 118.07696145 120.60506344 116.61539754 121.24481321\n",
            " 104.56816667 160.07040611 157.40677574 118.55011052 159.31184763\n",
            "  89.28920017 158.4976012  127.03049802 122.3553243   96.78023515\n",
            " 117.60486742  87.6788779  118.90412426 109.3723111  118.97709362\n",
            " 145.9480029  148.40954226 119.27213656 114.06487922 118.06301257\n",
            " 114.46169379 121.37832067 122.30355013 147.12830151 161.35692762\n",
            " 160.17636413 102.82012303 151.8505014   95.98935898 141.25223719\n",
            " 123.41521232  87.55174804 113.64988924 122.07413592 161.75342541\n",
            "  97.9982262  101.34886277 145.86292437]\n"
          ]
        }
      ],
      "source": [
        "\n",
        "print(lr_X_test_pred)"
      ]
    },
    {
      "cell_type": "code",
      "execution_count": 19,
      "metadata": {
        "colab": {
          "base_uri": "https://localhost:8080/",
          "height": 472
        },
        "id": "ivguM7pYM-eh",
        "outputId": "589f10bf-05f7-48e2-ec62-5fe85967508f"
      },
      "outputs": [
        {
          "data": {
            "image/png": "[encoded data removed]",
            "text/plain": [
              "<Figure size 640x480 with 1 Axes>"
            ]
          },
          "metadata": {},
          "output_type": "display_data"
        }
      ],
      "source": [
        "plt.plot(y_test, color='blue', label='Actual Value')\n",
        "plt.plot(lr_X_test_pred, color='red', label='Predicted Value')\n",
        "plt.title('Acual Price vs Predicted Price')\n",
        "plt.xlabel('Number of values')\n",
        "plt.ylabel('GLD Price')\n",
        "plt.legend()\n",
        "plt.show()"
      ]
    },
    {
      "cell_type": "markdown",
      "metadata": {
        "id": "v2bfRtTmQvS8"
      },
      "source": [
        "**Random Forest**"
      ]
    },
    {
      "cell_type": "code",
      "execution_count": 20,
      "metadata": {
        "colab": {
          "base_uri": "https://localhost:8080/"
        },
        "id": "1A_ReqQCPfUU",
        "outputId": "8e5a1a1a-6cae-4051-89f6-f905afaae6d3"
      },
      "outputs": [
        {
          "name": "stdout",
          "output_type": "stream",
          "text": [
            "R² Score of training data:  0.9980827598803304\n",
            "R² Score of testing data:  0.9894690054190328\n"
          ]
        }
      ],
      "source": [
        "from sklearn.ensemble import RandomForestRegressor\n",
        "from sklearn import metrics\n",
        "\n",
        "# Create and train the Random Forest model with max depth of 10\n",
        "rf_model = RandomForestRegressor(n_estimators=100, max_depth=10, random_state=42)\n",
        "rf_model.fit(X_train, y_train)\n",
        "\n",
        "# Make predictions on the training data\n",
        "rf_X_train_pred = rf_model.predict(X_train)\n",
        "rf_train_r2 = metrics.r2_score(y_train, rf_X_train_pred)\n",
        "print(\"R² Score of training data: \", rf_train_r2)\n",
        "\n",
        "# Make predictions on the testing data\n",
        "rf_X_test_pred = rf_model.predict(X_test)\n",
        "rf_test_r2 = metrics.r2_score(y_test, rf_X_test_pred)\n",
        "print(\"R² Score of testing data: \", rf_test_r2)"
      ]
    },
    {
      "cell_type": "code",
      "execution_count": 21,
      "metadata": {
        "colab": {
          "base_uri": "https://localhost:8080/"
        },
        "id": "KsIOOgTRReLK",
        "outputId": "bef3d06d-b551-4bf9-f129-01dc2d823e68"
      },
      "outputs": [
        {
          "name": "stdout",
          "output_type": "stream",
          "text": [
            "Price is  :  [85.38373005]\n"
          ]
        },
        {
          "name": "stderr",
          "output_type": "stream",
          "text": [
            "C:\\Users\\hp\\AppData\\Local\\Packages\\PythonSoftwareFoundation.Python.3.12_qbz5n2kfra8p0\\LocalCache\\local-packages\\Python312\\site-packages\\sklearn\\base.py:493: UserWarning: X does not have valid feature names, but RandomForestRegressor was fitted with feature names\n",
            "  warnings.warn(\n"
          ]
        }
      ],
      "source": [
        "test = np.array([[1447.160034,  78.370003,  15.2850,  1.474491]])\n",
        "\n",
        "rf_test_pred = rf_model.predict(test)\n",
        "print(\"Price is  : \",rf_test_pred)"
      ]
    },
    {
      "cell_type": "code",
      "execution_count": 22,
      "metadata": {},
      "outputs": [],
      "source": [
        "import pickle\n",
        "\n",
        "# Save the model to a pickle file\n",
        "with open('random_forest_model.pkl', 'wb') as file:\n",
        "    pickle.dump(rf_model, file)\n"
      ]
    },
    {
      "cell_type": "code",
      "execution_count": 23,
      "metadata": {},
      "outputs": [
        {
          "data": {
            "text/plain": [
              "array([122.28998585, 130.28551507, 127.71827104,  96.66742237,\n",
              "       118.95534061, 114.78525087, 124.77973557, 117.89403613,\n",
              "       108.09175878,  98.10771609,  95.28205699, 167.90222088,\n",
              "       149.29691212, 116.35745933, 170.48872101,  84.95056128,\n",
              "       123.98276001, 109.45114549, 112.94284861, 131.66378507,\n",
              "       124.61063729, 113.46551188, 115.91808118, 108.59932448,\n",
              "       108.67480375, 125.64405068, 120.05606165, 112.21769522,\n",
              "       113.256473  , 125.08595807, 145.98346837,  89.54069871,\n",
              "       167.8080266 , 113.56583305, 108.43913451, 120.2744881 ,\n",
              "       141.94455   , 161.37838976, 174.07552787, 153.45373188,\n",
              "       119.1533244 , 112.93323654, 121.3072954 , 113.83895315,\n",
              "       121.87390741, 108.15124629,  88.83548281, 114.09175495,\n",
              "       129.93361704, 118.47858318, 104.26696296, 129.93935776,\n",
              "       107.43349716, 161.18111571, 131.59683486, 119.00111814,\n",
              "       147.2146455 , 135.76944254,  95.56307282, 124.7101335 ,\n",
              "       114.74393969,  86.2799899 , 104.34210422, 113.91231523,\n",
              "        84.17103911, 122.10631573, 116.86675368, 114.34887454,\n",
              "       165.28497872,  92.3448592 ,  80.24319209, 160.97159747,\n",
              "       159.25689366, 106.63276533, 149.01841773, 109.58320793,\n",
              "       123.36777866, 128.60214182, 113.1015433 , 119.92965123,\n",
              "       135.81279365, 107.55065162,  93.83488271,  92.80327587,\n",
              "       111.7914678 , 118.3107584 , 108.49322056, 112.102687  ,\n",
              "       168.18287947, 161.07921202, 107.5828819 , 125.25952279,\n",
              "       108.2071507 , 115.55081919, 127.02062247, 108.48382655,\n",
              "       162.50292758,  84.6686237 , 131.5482384 , 114.10059352,\n",
              "       155.24740087, 110.34409123, 114.00845427, 107.57322103,\n",
              "       137.9797143 ,  88.03896215,  92.42854718, 175.20096749,\n",
              "       119.05259107, 118.64876257, 121.28407116, 171.36114402,\n",
              "       131.80854561, 119.68739326, 158.26672964, 118.44558823,\n",
              "       119.45035816, 110.80677969, 120.19512846, 121.9101958 ,\n",
              "       128.70154411, 115.191646  ,  89.67666931, 114.50841241,\n",
              "       131.97386478, 115.81352353, 124.99709764,  91.5232827 ,\n",
              "       106.65117091, 116.90909628, 109.19750435, 166.22452463,\n",
              "        80.65771322, 121.70926926,  72.68059901, 111.45525214,\n",
              "       100.75781145, 122.85998131,  76.00919996, 124.62123932,\n",
              "       119.75679898, 105.33134254,  90.84076235, 132.50429463,\n",
              "       136.98819712, 175.77812126, 125.5638792 , 126.00447586,\n",
              "       123.68203635,  91.96626064, 149.73235081, 102.88031488,\n",
              "       117.30467635, 133.91625966, 135.87324008, 118.2435865 ,\n",
              "       117.62682198, 102.22163557, 122.93441597,  89.52023001,\n",
              "       108.38828498, 117.46404551, 168.05469405, 117.30142688,\n",
              "       119.08566062, 155.3512847 , 111.21041003,  87.28083122,\n",
              "       116.62170937, 124.43343973, 120.84690744, 117.96592286,\n",
              "        96.47799006, 109.03409903, 114.94352083, 127.5286886 ,\n",
              "       155.80412117, 108.06010945, 123.11911972, 139.24943946,\n",
              "        90.98308124, 118.44056683, 130.60450638, 114.21765361,\n",
              "       108.43741212, 119.37027021, 128.06232831, 125.48029191,\n",
              "       145.88794981, 112.28879683,  93.88251261, 115.40978311,\n",
              "       125.72953544, 120.65654269, 121.92541357,  92.36620877,\n",
              "       120.8883103 ,  93.31173788, 119.05957211, 124.70936372,\n",
              "       121.883665  , 131.27700528, 124.7376333 , 115.10066068,\n",
              "       127.39900149, 113.63963867, 165.43851201, 121.94455368,\n",
              "       119.38693837, 113.82165721, 120.86931477, 120.16354738,\n",
              "       105.92351585, 116.85122313, 125.87957819, 171.94519643,\n",
              "        85.82626802, 134.12509235, 127.623329  ,  74.36237791,\n",
              "       119.68655643,  88.71320198, 162.69038447,  92.02782082,\n",
              "       158.94703186, 102.25959133, 102.97693392, 102.52225064,\n",
              "       119.45390932, 165.45526992, 120.29166997, 135.35139622,\n",
              "        96.50163952, 113.08411551, 132.2712347 , 145.71291746,\n",
              "       125.57467482, 101.62873968, 125.41319637, 160.02336676,\n",
              "       120.0123143 , 126.22413659, 127.53116492, 115.44449009,\n",
              "       156.30160651, 128.45838742, 114.37451717, 176.27590747,\n",
              "       120.58594053, 119.01068174, 102.81757024, 160.95425681,\n",
              "       114.79596573, 119.01281005, 125.06365928, 117.02070341,\n",
              "       114.8633079 ,  90.82563241, 101.43944816, 132.3444979 ,\n",
              "       118.73217728, 168.40690213, 108.028688  ,  86.16012319,\n",
              "        91.62360747, 156.02365873, 157.90697155, 153.14570437,\n",
              "        72.94722989, 120.9306981 , 117.11068197, 158.68454011,\n",
              "       135.54713979, 111.83400263, 114.31866792, 160.63864593,\n",
              "       125.7116959 , 120.07362533, 118.80007035, 158.37207551,\n",
              "       104.03387297,  89.42942035,  84.17033617,  90.32050605,\n",
              "       115.45451122, 113.57687348, 118.98861335, 120.17008763,\n",
              "        79.3523166 ,  91.50191993, 153.4866602 , 119.32987289,\n",
              "       132.46541295, 126.78163903, 113.47252974,  82.98376891,\n",
              "       118.15507755,  90.29337166, 118.25157012, 163.30806338,\n",
              "       121.00719671, 110.64116093, 125.66643205, 114.4463665 ,\n",
              "       135.74866402,  80.08039776, 163.52122806, 132.5765418 ,\n",
              "       164.62099412, 127.57459902,  92.19256966, 108.38285722,\n",
              "       114.23587424, 127.65424877, 119.55796598,  92.42883376,\n",
              "       132.36372551, 162.37309655,  71.75462118, 112.27793923,\n",
              "       108.85692076, 114.14758759, 120.1813353 , 112.00545653,\n",
              "       120.67998684, 118.67627069, 126.04247471, 125.76487945,\n",
              "       109.44110447, 167.77392554, 166.425106  , 112.06988148,\n",
              "       169.5782139 , 111.96843117, 161.84466125, 127.11377874,\n",
              "       167.9083743 , 134.72160363, 109.31548424, 167.03672209,\n",
              "       117.06797449,  72.83771841, 113.39326903,  93.44836976,\n",
              "        87.95406738, 104.22588504, 125.42655341, 123.74415974,\n",
              "       168.82059191, 121.93436505,  87.61895597, 131.79376022,\n",
              "       121.65074254, 107.67963178, 169.02740725, 126.29996882,\n",
              "       126.84474122, 113.49843793, 134.68994779, 125.19985327,\n",
              "       144.04930503, 122.70785235, 118.50850094, 120.79940075,\n",
              "       167.22628989,  71.29069385, 163.68591823, 167.6565437 ,\n",
              "       119.64087864, 103.67727838, 128.31331872, 154.28973749,\n",
              "       171.93074148, 134.96718446, 126.67456212, 124.23589661,\n",
              "       151.97019255,  88.15132314, 131.1081008 , 111.68105881,\n",
              "       165.8879669 , 156.48843466, 166.54813771, 121.59383863,\n",
              "        90.38933404, 132.49014232,  99.84792002, 127.40299097,\n",
              "       127.63947942, 108.64755927,  91.78069599, 153.50627967,\n",
              "        94.83561215,  87.83719591, 124.92276529,  87.55262752,\n",
              "        94.48187191, 113.65142314, 155.96715638, 148.93935284,\n",
              "       105.15354842, 166.62784048, 111.51192087, 128.33270963,\n",
              "        90.73471332, 109.45154749,  76.20390863, 110.49746366,\n",
              "       163.31736266, 153.86284332, 152.7582326 , 161.77118222,\n",
              "        92.03568052, 118.48873585,  93.39296245, 129.71412834,\n",
              "       117.33170214, 118.19799627, 124.5593332 , 121.02152806,\n",
              "        97.87369957, 169.45932328, 146.70408628, 124.59258949,\n",
              "       169.35137614,  84.21965544, 166.65172077, 130.33874593,\n",
              "       119.99543028,  88.47922751, 119.94477162,  83.64952419,\n",
              "       119.47724904, 114.22420507, 116.75662089, 154.65525271,\n",
              "       134.9270163 , 118.54710322, 118.45092256, 124.02124098,\n",
              "       115.95328639, 119.03007858, 121.77601961, 145.28034907,\n",
              "       148.17046285, 168.64040471,  98.14463951, 160.65056758,\n",
              "        93.01346696, 140.19588432, 121.50907779,  83.92536315,\n",
              "       106.35072323, 122.70357936, 169.30030685,  94.08652433,\n",
              "        96.30718778, 153.06004998])"
            ]
          },
          "execution_count": 23,
          "metadata": {},
          "output_type": "execute_result"
        }
      ],
      "source": [
        "import pickle\n",
        "\n",
        "# Load the model from the pickle file\n",
        "with open('random_forest_model.pkl', 'rb') as file:\n",
        "    loaded_model = pickle.load(file)\n",
        "\n",
        "# Use the loaded model for predictions\n",
        "loaded_model.predict(X_test)\n"
      ]
    },
    {
      "cell_type": "code",
      "execution_count": null,
      "metadata": {},
      "outputs": [],
      "source": []
    }
  ],
  "metadata": {
    "colab": {
      "provenance": []
    },
    "kernelspec": {
      "display_name": "Python 3",
      "name": "python3"
    },
    "language_info": {
      "codemirror_mode": {
        "name": "ipython",
        "version": 3
      },
      "file_extension": ".py",
      "mimetype": "text/x-python",
      "name": "python",
      "nbconvert_exporter": "python",
      "pygments_lexer": "ipython3",
      "version": "3.12.4"
    }
  },
  "nbformat": 4,
  "nbformat_minor": 0
}
